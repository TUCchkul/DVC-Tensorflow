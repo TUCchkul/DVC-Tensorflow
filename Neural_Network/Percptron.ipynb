{
 "cells": [
  {
   "cell_type": "code",
   "execution_count": 1,
   "id": "3919d373",
   "metadata": {},
   "outputs": [],
   "source": [
    "import numpy as np\n",
    "import matplotlib.pyplot as plt\n",
    "import joblib\n",
    "import pandas as pd\n",
    "plt.style.use(\"fivethirtyeight\")"
   ]
  },
  {
   "cell_type": "code",
   "execution_count": 22,
   "id": "cabaf306",
   "metadata": {},
   "outputs": [],
   "source": [
    "class Perceptron:\n",
    "    def __init__(self, eta, epochs, activationFunction):\n",
    "        self.weights=np.random.rand(3)*1e-4\n",
    "        print(f\"self.weights: {self.weights}\")\n",
    "        self.eta=eta\n",
    "        self.epochs=epochs\n",
    "        self.activationFunction=activationFunction\n",
    "    def fit(self, X, y):\n",
    "        self.X=X\n",
    "        self.y=y\n",
    "        \n",
    "        X_with_bias=np.c_[self.X, -np.ones((len(self.X),1))]\n",
    "        print(f\"X_with_bias_in fit_fun: \\n{X_with_bias}\")\n",
    "        for epoch in range(self.epochs):\n",
    "            y_hat=self.activationFunction(X_with_bias, self.weights)\n",
    "            print(f\"Predicted Value: \\n{y_hat}\")\n",
    "            error=self.y-y_hat\n",
    "            print(f\"Error: \\n{error}\")\n",
    "            self.weights=self.weights+self.eta*np.dot(X_with_bias.T, error)\n",
    "            print(f\"Updated weights: \\n{self.weights}\")\n",
    "            print(\"############################\\n\")\n",
    "    def predict(self, X):\n",
    "        X_with_bias=np.c_[X, -np.ones((len(X),1))]\n",
    "        print(f\"X_with_bias_in predict_fun: \\n{X_with_bias}\")\n",
    "        return self.activationFunction(X_with_bias, self.weights)\n",
    "            "
   ]
  },
  {
   "cell_type": "code",
   "execution_count": 23,
   "id": "bf96bf33",
   "metadata": {},
   "outputs": [
    {
     "data": {
      "text/plain": [
       "' Alternatives of lambda function of activationFunction\\ndef activationFunction(inputs, weights):\\n    z=np.dot(inputs, weights)\\n    y_hat=np.where(z > 0, 1,0)\\n    return y_hat\\ndef activationFunction(inputs, weights):\\n    z=np.dot(inputs, weights)\\n    if z>0:\\n        y_hat=1\\n    else:\\n        y_hat=0\\n'"
      ]
     },
     "execution_count": 23,
     "metadata": {},
     "output_type": "execute_result"
    }
   ],
   "source": [
    "activationFunction=lambda inputs, weights: np.where(np.dot(inputs, weights)>0,1,0)\n",
    "\"\"\" Alternatives of lambda function of activationFunction\n",
    "def activationFunction(inputs, weights):\n",
    "    z=np.dot(inputs, weights)\n",
    "    y_hat=np.where(z > 0, 1,0)\n",
    "    return y_hat\n",
    "def activationFunction(inputs, weights):\n",
    "    z=np.dot(inputs, weights)\n",
    "    if z>0:\n",
    "        y_hat=1\n",
    "    else:\n",
    "        y_hat=0\n",
    "\"\"\""
   ]
  },
  {
   "cell_type": "code",
   "execution_count": 24,
   "id": "ecca3d12",
   "metadata": {},
   "outputs": [
    {
     "data": {
      "text/html": [
       "<div>\n",
       "<style scoped>\n",
       "    .dataframe tbody tr th:only-of-type {\n",
       "        vertical-align: middle;\n",
       "    }\n",
       "\n",
       "    .dataframe tbody tr th {\n",
       "        vertical-align: top;\n",
       "    }\n",
       "\n",
       "    .dataframe thead th {\n",
       "        text-align: right;\n",
       "    }\n",
       "</style>\n",
       "<table border=\"1\" class=\"dataframe\">\n",
       "  <thead>\n",
       "    <tr style=\"text-align: right;\">\n",
       "      <th></th>\n",
       "      <th>x1</th>\n",
       "      <th>x2</th>\n",
       "      <th>y</th>\n",
       "    </tr>\n",
       "  </thead>\n",
       "  <tbody>\n",
       "    <tr>\n",
       "      <th>0</th>\n",
       "      <td>0</td>\n",
       "      <td>0</td>\n",
       "      <td>0</td>\n",
       "    </tr>\n",
       "    <tr>\n",
       "      <th>1</th>\n",
       "      <td>0</td>\n",
       "      <td>1</td>\n",
       "      <td>0</td>\n",
       "    </tr>\n",
       "    <tr>\n",
       "      <th>2</th>\n",
       "      <td>1</td>\n",
       "      <td>0</td>\n",
       "      <td>0</td>\n",
       "    </tr>\n",
       "    <tr>\n",
       "      <th>3</th>\n",
       "      <td>1</td>\n",
       "      <td>1</td>\n",
       "      <td>1</td>\n",
       "    </tr>\n",
       "  </tbody>\n",
       "</table>\n",
       "</div>"
      ],
      "text/plain": [
       "   x1  x2  y\n",
       "0   0   0  0\n",
       "1   0   1  0\n",
       "2   1   0  0\n",
       "3   1   1  1"
      ]
     },
     "execution_count": 24,
     "metadata": {},
     "output_type": "execute_result"
    }
   ],
   "source": [
    "data={\"x1\":[0,0,1,1], \"x2\":[0,1,0,1], \"y\":[0,0,0,1]}\n",
    "AND=pd.DataFrame(data)\n",
    "AND"
   ]
  },
  {
   "cell_type": "code",
   "execution_count": 25,
   "id": "c621245f",
   "metadata": {},
   "outputs": [
    {
     "data": {
      "text/html": [
       "<div>\n",
       "<style scoped>\n",
       "    .dataframe tbody tr th:only-of-type {\n",
       "        vertical-align: middle;\n",
       "    }\n",
       "\n",
       "    .dataframe tbody tr th {\n",
       "        vertical-align: top;\n",
       "    }\n",
       "\n",
       "    .dataframe thead th {\n",
       "        text-align: right;\n",
       "    }\n",
       "</style>\n",
       "<table border=\"1\" class=\"dataframe\">\n",
       "  <thead>\n",
       "    <tr style=\"text-align: right;\">\n",
       "      <th></th>\n",
       "      <th>x1</th>\n",
       "      <th>x2</th>\n",
       "    </tr>\n",
       "  </thead>\n",
       "  <tbody>\n",
       "    <tr>\n",
       "      <th>0</th>\n",
       "      <td>0</td>\n",
       "      <td>0</td>\n",
       "    </tr>\n",
       "    <tr>\n",
       "      <th>1</th>\n",
       "      <td>0</td>\n",
       "      <td>1</td>\n",
       "    </tr>\n",
       "    <tr>\n",
       "      <th>2</th>\n",
       "      <td>1</td>\n",
       "      <td>0</td>\n",
       "    </tr>\n",
       "    <tr>\n",
       "      <th>3</th>\n",
       "      <td>1</td>\n",
       "      <td>1</td>\n",
       "    </tr>\n",
       "  </tbody>\n",
       "</table>\n",
       "</div>"
      ],
      "text/plain": [
       "   x1  x2\n",
       "0   0   0\n",
       "1   0   1\n",
       "2   1   0\n",
       "3   1   1"
      ]
     },
     "execution_count": 25,
     "metadata": {},
     "output_type": "execute_result"
    }
   ],
   "source": [
    "X=AND.drop(\"y\", axis=1)\n",
    "X"
   ]
  },
  {
   "cell_type": "code",
   "execution_count": 26,
   "id": "c214e865",
   "metadata": {},
   "outputs": [
    {
     "data": {
      "text/html": [
       "<div>\n",
       "<style scoped>\n",
       "    .dataframe tbody tr th:only-of-type {\n",
       "        vertical-align: middle;\n",
       "    }\n",
       "\n",
       "    .dataframe tbody tr th {\n",
       "        vertical-align: top;\n",
       "    }\n",
       "\n",
       "    .dataframe thead th {\n",
       "        text-align: right;\n",
       "    }\n",
       "</style>\n",
       "<table border=\"1\" class=\"dataframe\">\n",
       "  <thead>\n",
       "    <tr style=\"text-align: right;\">\n",
       "      <th></th>\n",
       "      <th>y</th>\n",
       "    </tr>\n",
       "  </thead>\n",
       "  <tbody>\n",
       "    <tr>\n",
       "      <th>0</th>\n",
       "      <td>0</td>\n",
       "    </tr>\n",
       "    <tr>\n",
       "      <th>1</th>\n",
       "      <td>0</td>\n",
       "    </tr>\n",
       "    <tr>\n",
       "      <th>2</th>\n",
       "      <td>0</td>\n",
       "    </tr>\n",
       "    <tr>\n",
       "      <th>3</th>\n",
       "      <td>1</td>\n",
       "    </tr>\n",
       "  </tbody>\n",
       "</table>\n",
       "</div>"
      ],
      "text/plain": [
       "   y\n",
       "0  0\n",
       "1  0\n",
       "2  0\n",
       "3  1"
      ]
     },
     "execution_count": 26,
     "metadata": {},
     "output_type": "execute_result"
    }
   ],
   "source": [
    "y=AND[\"y\"]\n",
    "y.to_frame()"
   ]
  },
  {
   "cell_type": "code",
   "execution_count": 27,
   "id": "d97bccbe",
   "metadata": {},
   "outputs": [
    {
     "name": "stdout",
     "output_type": "stream",
     "text": [
      "self.weights: [7.22750316e-05 9.42301997e-05 8.49733350e-05]\n"
     ]
    }
   ],
   "source": [
    "model=Perceptron(eta=0.01, epochs=10,activationFunction=activationFunction)"
   ]
  },
  {
   "cell_type": "code",
   "execution_count": 28,
   "id": "b3ea1480",
   "metadata": {},
   "outputs": [
    {
     "name": "stdout",
     "output_type": "stream",
     "text": [
      "X_with_bias_in fit_fun: \n",
      "[[ 0.  0. -1.]\n",
      " [ 0.  1. -1.]\n",
      " [ 1.  0. -1.]\n",
      " [ 1.  1. -1.]]\n",
      "Predicted Value: \n",
      "[0 1 0 1]\n",
      "Error: \n",
      "0    0\n",
      "1   -1\n",
      "2    0\n",
      "3    0\n",
      "Name: y, dtype: int64\n",
      "Updated weights: \n",
      "[ 7.22750316e-05 -9.90576980e-03  1.00849733e-02]\n",
      "############################\n",
      "\n",
      "Predicted Value: \n",
      "[0 0 0 0]\n",
      "Error: \n",
      "0    0\n",
      "1    0\n",
      "2    0\n",
      "3    1\n",
      "Name: y, dtype: int64\n",
      "Updated weights: \n",
      "[1.00722750e-02 9.42301997e-05 8.49733350e-05]\n",
      "############################\n",
      "\n",
      "Predicted Value: \n",
      "[0 1 1 1]\n",
      "Error: \n",
      "0    0\n",
      "1   -1\n",
      "2   -1\n",
      "3    0\n",
      "Name: y, dtype: int64\n",
      "Updated weights: \n",
      "[ 7.22750316e-05 -9.90576980e-03  2.00849733e-02]\n",
      "############################\n",
      "\n",
      "Predicted Value: \n",
      "[0 0 0 0]\n",
      "Error: \n",
      "0    0\n",
      "1    0\n",
      "2    0\n",
      "3    1\n",
      "Name: y, dtype: int64\n",
      "Updated weights: \n",
      "[1.00722750e-02 9.42301997e-05 1.00849733e-02]\n",
      "############################\n",
      "\n",
      "Predicted Value: \n",
      "[0 0 0 1]\n",
      "Error: \n",
      "0    0\n",
      "1    0\n",
      "2    0\n",
      "3    0\n",
      "Name: y, dtype: int64\n",
      "Updated weights: \n",
      "[1.00722750e-02 9.42301997e-05 1.00849733e-02]\n",
      "############################\n",
      "\n",
      "Predicted Value: \n",
      "[0 0 0 1]\n",
      "Error: \n",
      "0    0\n",
      "1    0\n",
      "2    0\n",
      "3    0\n",
      "Name: y, dtype: int64\n",
      "Updated weights: \n",
      "[1.00722750e-02 9.42301997e-05 1.00849733e-02]\n",
      "############################\n",
      "\n",
      "Predicted Value: \n",
      "[0 0 0 1]\n",
      "Error: \n",
      "0    0\n",
      "1    0\n",
      "2    0\n",
      "3    0\n",
      "Name: y, dtype: int64\n",
      "Updated weights: \n",
      "[1.00722750e-02 9.42301997e-05 1.00849733e-02]\n",
      "############################\n",
      "\n",
      "Predicted Value: \n",
      "[0 0 0 1]\n",
      "Error: \n",
      "0    0\n",
      "1    0\n",
      "2    0\n",
      "3    0\n",
      "Name: y, dtype: int64\n",
      "Updated weights: \n",
      "[1.00722750e-02 9.42301997e-05 1.00849733e-02]\n",
      "############################\n",
      "\n",
      "Predicted Value: \n",
      "[0 0 0 1]\n",
      "Error: \n",
      "0    0\n",
      "1    0\n",
      "2    0\n",
      "3    0\n",
      "Name: y, dtype: int64\n",
      "Updated weights: \n",
      "[1.00722750e-02 9.42301997e-05 1.00849733e-02]\n",
      "############################\n",
      "\n",
      "Predicted Value: \n",
      "[0 0 0 1]\n",
      "Error: \n",
      "0    0\n",
      "1    0\n",
      "2    0\n",
      "3    0\n",
      "Name: y, dtype: int64\n",
      "Updated weights: \n",
      "[1.00722750e-02 9.42301997e-05 1.00849733e-02]\n",
      "############################\n",
      "\n"
     ]
    }
   ],
   "source": [
    "model.fit(X,y)"
   ]
  },
  {
   "cell_type": "code",
   "execution_count": 29,
   "id": "50df495c",
   "metadata": {},
   "outputs": [
    {
     "name": "stdout",
     "output_type": "stream",
     "text": [
      "X_with_bias_in predict_fun: \n",
      "[[ 0.  0. -1.]\n",
      " [ 0.  1. -1.]\n",
      " [ 1.  0. -1.]\n",
      " [ 1.  1. -1.]]\n"
     ]
    },
    {
     "data": {
      "text/plain": [
       "array([0, 0, 0, 1])"
      ]
     },
     "execution_count": 29,
     "metadata": {},
     "output_type": "execute_result"
    }
   ],
   "source": [
    "model.predict(X)"
   ]
  },
  {
   "cell_type": "code",
   "execution_count": null,
   "id": "afe96d18",
   "metadata": {},
   "outputs": [],
   "source": []
  }
 ],
 "metadata": {
  "kernelspec": {
   "display_name": "Python 3 (ipykernel)",
   "language": "python",
   "name": "python3"
  },
  "language_info": {
   "codemirror_mode": {
    "name": "ipython",
    "version": 3
   },
   "file_extension": ".py",
   "mimetype": "text/x-python",
   "name": "python",
   "nbconvert_exporter": "python",
   "pygments_lexer": "ipython3",
   "version": "3.7.13"
  }
 },
 "nbformat": 4,
 "nbformat_minor": 5
}
