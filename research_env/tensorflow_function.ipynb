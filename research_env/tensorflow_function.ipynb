{
 "cells": [
  {
   "cell_type": "markdown",
   "id": "5cd92d28",
   "metadata": {},
   "source": [
    "$z= x^3*6 + y^3$"
   ]
  },
  {
   "cell_type": "code",
   "execution_count": 3,
   "id": "65ce45f8",
   "metadata": {},
   "outputs": [],
   "source": [
    "import tensorflow as tf"
   ]
  },
  {
   "cell_type": "code",
   "execution_count": null,
   "id": "429d3ff3",
   "metadata": {},
   "outputs": [],
   "source": []
  },
  {
   "cell_type": "code",
   "execution_count": 11,
   "id": "e9861359",
   "metadata": {},
   "outputs": [],
   "source": [
    "\n",
    "def f1(x,y):\n",
    "    input_var=tf.multiply(x**3,6) +y**3\n",
    "    return tf.reduce_mean(input_tensor=input_var)"
   ]
  },
  {
   "cell_type": "code",
   "execution_count": 5,
   "id": "10a1fb31",
   "metadata": {},
   "outputs": [],
   "source": [
    "func=tf.function(f1)"
   ]
  },
  {
   "cell_type": "code",
   "execution_count": 7,
   "id": "1b7ecf03",
   "metadata": {},
   "outputs": [],
   "source": [
    "x=tf.constant([3., -4.])\n",
    "y=tf.constant([1., 4.])"
   ]
  },
  {
   "cell_type": "code",
   "execution_count": 9,
   "id": "a5f56966",
   "metadata": {},
   "outputs": [
    {
     "data": {
      "text/plain": [
       "<tf.Tensor: shape=(), dtype=float32, numpy=-78.5>"
      ]
     },
     "execution_count": 9,
     "metadata": {},
     "output_type": "execute_result"
    }
   ],
   "source": [
    "func(x,y)"
   ]
  },
  {
   "cell_type": "code",
   "execution_count": 10,
   "id": "c1f84681",
   "metadata": {},
   "outputs": [
    {
     "data": {
      "text/plain": [
       "<tf.Tensor: shape=(), dtype=float32, numpy=-78.5>"
      ]
     },
     "execution_count": 10,
     "metadata": {},
     "output_type": "execute_result"
    }
   ],
   "source": [
    "f1(x,y)"
   ]
  },
  {
   "cell_type": "code",
   "execution_count": 12,
   "id": "6bbe82e2",
   "metadata": {},
   "outputs": [],
   "source": [
    "@tf.function\n",
    "def f2(x,y):\n",
    "    input_var=tf.multiply(x**3,6) +y**3\n",
    "    return tf.reduce_mean(input_tensor=input_var)"
   ]
  },
  {
   "cell_type": "code",
   "execution_count": 33,
   "id": "52df5b7f",
   "metadata": {},
   "outputs": [],
   "source": [
    "def print_me():\n",
    "    print(\"HI FSDS\")"
   ]
  },
  {
   "cell_type": "code",
   "execution_count": 34,
   "id": "125388f5",
   "metadata": {},
   "outputs": [
    {
     "name": "stdout",
     "output_type": "stream",
     "text": [
      "HI FSDS\n"
     ]
    }
   ],
   "source": [
    "print_me()"
   ]
  },
  {
   "cell_type": "code",
   "execution_count": 35,
   "id": "7ddd71e3",
   "metadata": {},
   "outputs": [
    {
     "name": "stdout",
     "output_type": "stream",
     "text": [
      "****************************************\n",
      "HI FSDS\n",
      "****************************************\n"
     ]
    }
   ],
   "source": [
    "print(\"**\"*20)\n",
    "print_me()\n",
    "print(\"**\"*20)"
   ]
  },
  {
   "cell_type": "code",
   "execution_count": 36,
   "id": "f2ba8059",
   "metadata": {},
   "outputs": [
    {
     "name": "stdout",
     "output_type": "stream",
     "text": [
      "****************************************\n",
      "HI FSDS\n",
      "****************************************\n"
     ]
    }
   ],
   "source": [
    "print(\"**\"*20)\n",
    "print_me()\n",
    "print(\"**\"*20)"
   ]
  },
  {
   "cell_type": "code",
   "execution_count": 40,
   "id": "2cf9f10a",
   "metadata": {},
   "outputs": [],
   "source": [
    "def decorate_it(input_func):\n",
    "    def decorated_func():\n",
    "        print(\"**\"*20)\n",
    "        input_func()\n",
    "        print(\"**\"*20)\n",
    "    return decorated_func"
   ]
  },
  {
   "cell_type": "code",
   "execution_count": 45,
   "id": "2febea48",
   "metadata": {},
   "outputs": [
    {
     "name": "stdout",
     "output_type": "stream",
     "text": [
      "HI FSDS\n",
      "****************************************\n"
     ]
    },
    {
     "ename": "TypeError",
     "evalue": "'NoneType' object is not callable",
     "output_type": "error",
     "traceback": [
      "\u001b[1;31m---------------------------------------------------------------------------\u001b[0m",
      "\u001b[1;31mTypeError\u001b[0m                                 Traceback (most recent call last)",
      "\u001b[1;32m~\\AppData\\Local\\Temp\\ipykernel_9028\\1900362230.py\u001b[0m in \u001b[0;36m<module>\u001b[1;34m\u001b[0m\n\u001b[0;32m      1\u001b[0m \u001b[0mdecorated_func\u001b[0m\u001b[1;33m=\u001b[0m\u001b[0mdecorate_it\u001b[0m\u001b[1;33m(\u001b[0m\u001b[0mprint_me\u001b[0m\u001b[1;33m(\u001b[0m\u001b[1;33m)\u001b[0m\u001b[1;33m)\u001b[0m\u001b[1;33m\u001b[0m\u001b[1;33m\u001b[0m\u001b[0m\n\u001b[1;32m----> 2\u001b[1;33m \u001b[0mdecorated_func\u001b[0m\u001b[1;33m(\u001b[0m\u001b[1;33m)\u001b[0m\u001b[1;33m\u001b[0m\u001b[1;33m\u001b[0m\u001b[0m\n\u001b[0m",
      "\u001b[1;32m~\\AppData\\Local\\Temp\\ipykernel_9028\\2109240602.py\u001b[0m in \u001b[0;36mdecorated_func\u001b[1;34m()\u001b[0m\n\u001b[0;32m      2\u001b[0m     \u001b[1;32mdef\u001b[0m \u001b[0mdecorated_func\u001b[0m\u001b[1;33m(\u001b[0m\u001b[1;33m)\u001b[0m\u001b[1;33m:\u001b[0m\u001b[1;33m\u001b[0m\u001b[1;33m\u001b[0m\u001b[0m\n\u001b[0;32m      3\u001b[0m         \u001b[0mprint\u001b[0m\u001b[1;33m(\u001b[0m\u001b[1;34m\"**\"\u001b[0m\u001b[1;33m*\u001b[0m\u001b[1;36m20\u001b[0m\u001b[1;33m)\u001b[0m\u001b[1;33m\u001b[0m\u001b[1;33m\u001b[0m\u001b[0m\n\u001b[1;32m----> 4\u001b[1;33m         \u001b[0minput_func\u001b[0m\u001b[1;33m(\u001b[0m\u001b[1;33m)\u001b[0m\u001b[1;33m\u001b[0m\u001b[1;33m\u001b[0m\u001b[0m\n\u001b[0m\u001b[0;32m      5\u001b[0m         \u001b[0mprint\u001b[0m\u001b[1;33m(\u001b[0m\u001b[1;34m\"**\"\u001b[0m\u001b[1;33m*\u001b[0m\u001b[1;36m20\u001b[0m\u001b[1;33m)\u001b[0m\u001b[1;33m\u001b[0m\u001b[1;33m\u001b[0m\u001b[0m\n\u001b[0;32m      6\u001b[0m     \u001b[1;32mreturn\u001b[0m \u001b[0mdecorated_func\u001b[0m\u001b[1;33m\u001b[0m\u001b[1;33m\u001b[0m\u001b[0m\n",
      "\u001b[1;31mTypeError\u001b[0m: 'NoneType' object is not callable"
     ]
    }
   ],
   "source": [
    "decorated_func=decorate_it(print_me())\n",
    "decorated_func()"
   ]
  },
  {
   "cell_type": "code",
   "execution_count": 42,
   "id": "111a3916",
   "metadata": {},
   "outputs": [],
   "source": [
    "def decorate_it(input_func):\n",
    "    def decorated_func():\n",
    "        print(\"**\"*20)\n",
    "        input_func()\n",
    "        print(\"**\"*20)\n",
    "    return decorated_func"
   ]
  },
  {
   "cell_type": "code",
   "execution_count": 43,
   "id": "eab5fa54",
   "metadata": {},
   "outputs": [
    {
     "name": "stdout",
     "output_type": "stream",
     "text": [
      "****************************************\n",
      "HI FSDS\n",
      "****************************************\n"
     ]
    }
   ],
   "source": [
    "decorated_fun=decorate_it(print_me)\n",
    "decorated_fun()"
   ]
  },
  {
   "cell_type": "code",
   "execution_count": 46,
   "id": "a4e428b8",
   "metadata": {},
   "outputs": [],
   "source": [
    "@decorate_it\n",
    "def print_me2():\n",
    "    print(\"hi FSDS\")"
   ]
  },
  {
   "cell_type": "code",
   "execution_count": 47,
   "id": "b092093d",
   "metadata": {},
   "outputs": [
    {
     "name": "stdout",
     "output_type": "stream",
     "text": [
      "****************************************\n",
      "hi FSDS\n",
      "****************************************\n"
     ]
    }
   ],
   "source": [
    "print_me2()"
   ]
  },
  {
   "cell_type": "code",
   "execution_count": 48,
   "id": "56605cbf",
   "metadata": {},
   "outputs": [],
   "source": [
    "@decorate_it\n",
    "def print_my_name():\n",
    "    print(\"kul\")"
   ]
  },
  {
   "cell_type": "code",
   "execution_count": 49,
   "id": "9ddba7c7",
   "metadata": {},
   "outputs": [
    {
     "name": "stdout",
     "output_type": "stream",
     "text": [
      "****************************************\n",
      "kul\n",
      "****************************************\n"
     ]
    }
   ],
   "source": [
    "print_my_name()"
   ]
  },
  {
   "cell_type": "code",
   "execution_count": null,
   "id": "99ca82a5",
   "metadata": {},
   "outputs": [],
   "source": []
  }
 ],
 "metadata": {
  "kernelspec": {
   "display_name": "Python 3 (ipykernel)",
   "language": "python",
   "name": "python3"
  },
  "language_info": {
   "codemirror_mode": {
    "name": "ipython",
    "version": 3
   },
   "file_extension": ".py",
   "mimetype": "text/x-python",
   "name": "python",
   "nbconvert_exporter": "python",
   "pygments_lexer": "ipython3",
   "version": "3.7.13"
  }
 },
 "nbformat": 4,
 "nbformat_minor": 5
}
