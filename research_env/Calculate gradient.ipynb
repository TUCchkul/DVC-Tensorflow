{
 "cells": [
  {
   "cell_type": "markdown",
   "id": "373c36b3",
   "metadata": {},
   "source": [
    "# Calculate gradient in Tesorflow"
   ]
  },
  {
   "cell_type": "code",
   "execution_count": 1,
   "id": "b38e87fe",
   "metadata": {},
   "outputs": [],
   "source": [
    "import tensorflow as tf"
   ]
  },
  {
   "cell_type": "code",
   "execution_count": 2,
   "id": "4ae4af13",
   "metadata": {},
   "outputs": [],
   "source": [
    "x=tf.random.normal(shape=(2,2))\n",
    "y=tf.random.normal(shape=(2,2))"
   ]
  },
  {
   "cell_type": "markdown",
   "id": "07966155",
   "metadata": {},
   "source": [
    "$f(x,y)= \\sqrt{(x^2 +y^2)}$\n",
    "\n",
    "$\\nabla f(x,y)= \\frac{\\partial f}\n",
    "{\\partial x} \\hat{\\imath} +\\frac\n",
    "{\\partial f}{\\partial y} \\hat{\\jmath}$\n"
   ]
  },
  {
   "cell_type": "code",
   "execution_count": 3,
   "id": "9139186e",
   "metadata": {},
   "outputs": [
    {
     "name": "stdout",
     "output_type": "stream",
     "text": [
      "tf.Tensor(\n",
      "[[ 0.90491503  0.96570474]\n",
      " [-0.7853826   0.9462325 ]], shape=(2, 2), dtype=float32)\n"
     ]
    }
   ],
   "source": [
    "with tf.GradientTape() as tape:\n",
    "    tape.watch(x)# calculate the gradient with respect to x\n",
    "    f=tf.sqrt(tf.square(x) +tf.square(y))\n",
    "    df_dx=tape.gradient(f,x)\n",
    "    print(df_dx)"
   ]
  },
  {
   "cell_type": "code",
   "execution_count": 5,
   "id": "67d2ed45",
   "metadata": {},
   "outputs": [
    {
     "name": "stdout",
     "output_type": "stream",
     "text": [
      "tf.Tensor(\n",
      "[[ 0.42559218  0.25964257]\n",
      " [-0.6190106  -0.32348713]], shape=(2, 2), dtype=float32)\n"
     ]
    }
   ],
   "source": [
    "with tf.GradientTape() as tape:\n",
    "    tape.watch(y)\n",
    "    f=tf.sqrt(tf.square(x)+ tf.square(y))\n",
    "    df_dy=tape.gradient(f,y)\n",
    "    print(df_dy)"
   ]
  },
  {
   "cell_type": "code",
   "execution_count": 16,
   "id": "647411dd",
   "metadata": {},
   "outputs": [
    {
     "name": "stdout",
     "output_type": "stream",
     "text": [
      "tf.Tensor(0.8320503, shape=(), dtype=float32)\n",
      "tf.Tensor(0.5547002, shape=(), dtype=float32)\n"
     ]
    }
   ],
   "source": [
    "\n",
    "with tf.GradientTape() as tape:\n",
    "    tape.watch(x)# if we use constant then we have to use watch\n",
    "    tape.watch(y)\n",
    "    f=tf.sqrt(tf.square(x)+ tf.square(y))\n",
    "    df_dx, df_dy=tape.gradient(f,[x,y])# partial derivatives with respect to x and y\n",
    "    #df_dy=tape.gradient(f,y)\n",
    "    print(df_dx)\n",
    "    print(df_dy)"
   ]
  },
  {
   "cell_type": "code",
   "execution_count": 12,
   "id": "af75f385",
   "metadata": {},
   "outputs": [],
   "source": [
    "x=tf.Variable(3.)\n",
    "y=tf.Variable(2.)"
   ]
  },
  {
   "cell_type": "code",
   "execution_count": 17,
   "id": "06a7b468",
   "metadata": {},
   "outputs": [
    {
     "name": "stdout",
     "output_type": "stream",
     "text": [
      "tf.Tensor(0.8320503, shape=(), dtype=float32)\n",
      "tf.Tensor(0.5547002, shape=(), dtype=float32)\n"
     ]
    }
   ],
   "source": [
    "with tf.GradientTape() as tape:\n",
    "    #tape.watch(x)\n",
    "    #tape.watch(y) if we use variable then watch is not mandatory\n",
    "    f=tf.sqrt(tf.square(x)+ tf.square(y))\n",
    "    df_dx, df_dy=tape.gradient(f,[x,y])# partial derivatives with respect to x and y\n",
    "    #df_dy=tape.gradient(f,y)\n",
    "    print(df_dx)\n",
    "    print(df_dy)"
   ]
  },
  {
   "cell_type": "code",
   "execution_count": 14,
   "id": "49e9552e",
   "metadata": {},
   "outputs": [
    {
     "data": {
      "text/plain": [
       "<tf.Tensor: shape=(), dtype=float32, numpy=0.8320503>"
      ]
     },
     "execution_count": 14,
     "metadata": {},
     "output_type": "execute_result"
    }
   ],
   "source": [
    "x/tf.sqrt(tf.square(x)+ tf.square(y))"
   ]
  },
  {
   "cell_type": "code",
   "execution_count": 15,
   "id": "a337f4f5",
   "metadata": {},
   "outputs": [
    {
     "data": {
      "text/plain": [
       "<tf.Tensor: shape=(), dtype=float32, numpy=0.5547002>"
      ]
     },
     "execution_count": 15,
     "metadata": {},
     "output_type": "execute_result"
    }
   ],
   "source": [
    "y/tf.sqrt(tf.square(x)+ tf.square(y))"
   ]
  },
  {
   "cell_type": "markdown",
   "id": "d4d9035b",
   "metadata": {},
   "source": [
    "# Simple Linear Regression example with tensorflow\n",
    "$f(x)= W.x +b$"
   ]
  },
  {
   "cell_type": "code",
   "execution_count": 38,
   "id": "91437c9a",
   "metadata": {},
   "outputs": [],
   "source": [
    "TRUE_W=3.0\n",
    "TRUE_B=2.0\n",
    "NUM_EXAMPLES=1000\n",
    "x=tf.random.normal(shape=[NUM_EXAMPLES])\n",
    "noise=tf.random.normal(shape=[NUM_EXAMPLES])\n",
    "y=x*TRUE_W +TRUE_B +noise"
   ]
  },
  {
   "cell_type": "code",
   "execution_count": 39,
   "id": "884c718c",
   "metadata": {},
   "outputs": [
    {
     "data": {
      "image/png": "[encoded data removed]",
      "text/plain": [
       "<Figure size 432x288 with 1 Axes>"
      ]
     },
     "metadata": {
      "needs_background": "light"
     },
     "output_type": "display_data"
    }
   ],
   "source": [
    "import matplotlib.pyplot as plt\n",
    "plt.scatter(x,y,c=\"b\")\n",
    "plt.show()"
   ]
  },
  {
   "cell_type": "markdown",
   "id": "543e5676",
   "metadata": {},
   "source": [
    "# Without noise "
   ]
  },
  {
   "cell_type": "code",
   "execution_count": 37,
   "id": "43b1bbc0",
   "metadata": {},
   "outputs": [
    {
     "data": {
      "image/png": "[encoded data removed]",
      "text/plain": [
       "<Figure size 432x288 with 1 Axes>"
      ]
     },
     "metadata": {
      "needs_background": "light"
     },
     "output_type": "display_data"
    }
   ],
   "source": [
    "y=x*TRUE_W +TRUE_B\n",
    "import matplotlib.pyplot as plt\n",
    "plt.scatter(x,y,c=\"b\")\n",
    "plt.show()"
   ]
  },
  {
   "cell_type": "markdown",
   "id": "9413f8ce",
   "metadata": {},
   "source": [
    "# Lets define a model"
   ]
  },
  {
   "cell_type": "code",
   "execution_count": 22,
   "id": "e9fa8871",
   "metadata": {},
   "outputs": [],
   "source": [
    "class MyModel(tf.Module):\n",
    "    def __init__(self, **kwargs):\n",
    "        super().__init__(**kwargs)\n",
    "        # initials weights\n",
    "        self.w=tf.Variable(5.0)\n",
    "        self.b=tf.Variable(0.0)\n",
    "    def __call__(self,x):\n",
    "        return self.w*x+self.b"
   ]
  },
  {
   "cell_type": "code",
   "execution_count": 23,
   "id": "b17c2826",
   "metadata": {},
   "outputs": [],
   "source": [
    "class Test:\n",
    "    def __init__(self,x):\n",
    "        self.x=x\n",
    "    def __call__(self):\n",
    "        return self.x**3\n",
    "    "
   ]
  },
  {
   "cell_type": "code",
   "execution_count": 24,
   "id": "4c370727",
   "metadata": {},
   "outputs": [
    {
     "data": {
      "text/plain": [
       "<__main__.Test at 0x225b2f92b48>"
      ]
     },
     "execution_count": 24,
     "metadata": {},
     "output_type": "execute_result"
    }
   ],
   "source": [
    "obj=Test(2)\n",
    "obj"
   ]
  },
  {
   "cell_type": "code",
   "execution_count": 25,
   "id": "cd03b1a3",
   "metadata": {},
   "outputs": [
    {
     "data": {
      "text/plain": [
       "8"
      ]
     },
     "execution_count": 25,
     "metadata": {},
     "output_type": "execute_result"
    }
   ],
   "source": [
    "obj()"
   ]
  },
  {
   "cell_type": "code",
   "execution_count": 26,
   "id": "4ecf605a",
   "metadata": {},
   "outputs": [],
   "source": [
    "model=MyModel()"
   ]
  },
  {
   "cell_type": "code",
   "execution_count": 27,
   "id": "2f3ae76e",
   "metadata": {},
   "outputs": [
    {
     "data": {
      "text/plain": [
       "<tf.Tensor: shape=(), dtype=float32, numpy=15.0>"
      ]
     },
     "execution_count": 27,
     "metadata": {},
     "output_type": "execute_result"
    }
   ],
   "source": [
    "model(3)"
   ]
  },
  {
   "cell_type": "code",
   "execution_count": 28,
   "id": "b80197d2",
   "metadata": {},
   "outputs": [
    {
     "data": {
      "text/plain": [
       "<__main__.MyModel at 0x225b2f93708>"
      ]
     },
     "execution_count": 28,
     "metadata": {},
     "output_type": "execute_result"
    }
   ],
   "source": [
    "model"
   ]
  },
  {
   "cell_type": "code",
   "execution_count": 29,
   "id": "8b7cf95e",
   "metadata": {},
   "outputs": [
    {
     "data": {
      "text/plain": [
       "<tf.Variable 'Variable:0' shape=() dtype=float32, numpy=5.0>"
      ]
     },
     "execution_count": 29,
     "metadata": {},
     "output_type": "execute_result"
    }
   ],
   "source": [
    "model.w"
   ]
  },
  {
   "cell_type": "code",
   "execution_count": 32,
   "id": "8530617d",
   "metadata": {},
   "outputs": [
    {
     "data": {
      "text/plain": [
       "(<tf.Variable 'Variable:0' shape=() dtype=float32, numpy=0.0>,\n",
       " <tf.Variable 'Variable:0' shape=() dtype=float32, numpy=5.0>)"
      ]
     },
     "execution_count": 32,
     "metadata": {},
     "output_type": "execute_result"
    }
   ],
   "source": [
    "model.variables"
   ]
  },
  {
   "cell_type": "markdown",
   "id": "a33ea3c2",
   "metadata": {},
   "source": [
    "## Lets define the loss fiúnction"
   ]
  },
  {
   "cell_type": "code",
   "execution_count": 40,
   "id": "b10a1c28",
   "metadata": {},
   "outputs": [],
   "source": [
    "def MSE_loss(target_y, predicted_y):\n",
    "    error=target_y-predicted_y\n",
    "    squared_error=tf.square(error)\n",
    "    mse=tf.reduce_mean(squared_error)\n",
    "    return mse"
   ]
  },
  {
   "cell_type": "code",
   "execution_count": 41,
   "id": "88c0a4c2",
   "metadata": {},
   "outputs": [
    {
     "data": {
      "image/png": "[encoded data removed]",
      "text/plain": [
       "<Figure size 432x288 with 1 Axes>"
      ]
     },
     "metadata": {
      "needs_background": "light"
     },
     "output_type": "display_data"
    }
   ],
   "source": [
    "plt.scatter(x,y,c=\"b\")\n",
    "pred_y=model(x)\n",
    "plt.scatter(x,pred_y,c=\"r\")\n",
    "plt.show()"
   ]
  },
  {
   "cell_type": "code",
   "execution_count": 42,
   "id": "ec1a190d",
   "metadata": {},
   "outputs": [
    {
     "data": {
      "text/plain": [
       "8.802406"
      ]
     },
     "execution_count": 42,
     "metadata": {},
     "output_type": "execute_result"
    }
   ],
   "source": [
    "current_loss=MSE_loss(y, model(x))\n",
    "current_loss.numpy()"
   ]
  },
  {
   "cell_type": "markdown",
   "id": "9e626cbd",
   "metadata": {},
   "source": [
    "### Define training"
   ]
  },
  {
   "cell_type": "code",
   "execution_count": 43,
   "id": "bbb54310",
   "metadata": {},
   "outputs": [],
   "source": [
    "def train(model,x,y,learning_rate):\n",
    "    with tf.GradientTape() as tape:\n",
    "        current_loss=MSE_loss(y, model(x))\n",
    "    dc_dw, dc_db=tape.gradient(current_loss,[model.w, model.b])\n",
    "    # update weight and bias\n",
    "    model.w.assign_sub(learning_rate*dc_dw)\n",
    "    model.b.assign_sub(learning_rate*dc_db)\n",
    "    "
   ]
  },
  {
   "cell_type": "code",
   "execution_count": 44,
   "id": "a20d1c74",
   "metadata": {},
   "outputs": [],
   "source": [
    "model=MyModel()"
   ]
  },
  {
   "cell_type": "code",
   "execution_count": 45,
   "id": "ba4cc1df",
   "metadata": {},
   "outputs": [
    {
     "name": "stdout",
     "output_type": "stream",
     "text": [
      "Iniatial W: 5.0, Initial bias: 0.0, initial_loss: 8.802406311035156\n"
     ]
    }
   ],
   "source": [
    "Ws,bs=[],[]\n",
    "epochs=100\n",
    "learning_rate=0.1\n",
    "w=model.w.numpy()\n",
    "b=model.b.numpy()\n",
    "initial_loss=MSE_loss(y, model(x)).numpy()\n",
    "print(f\"Iniatial W: {w}, Initial bias: {b}, initial_loss: {initial_loss}\")"
   ]
  },
  {
   "cell_type": "code",
   "execution_count": 46,
   "id": "8c529690",
   "metadata": {},
   "outputs": [
    {
     "name": "stdout",
     "output_type": "stream",
     "text": [
      "For epoch: 0, W: 4.6167731285095215, b: 0.396369993686676, Current_loss: 6.056051731109619\n",
      "For epoch: 1, W: 4.305292129516602, b: 0.7140806317329407, Current_loss: 4.267422676086426\n",
      "For epoch: 2, W: 4.052131652832031, b: 0.9687486886978149, Current_loss: 3.102308988571167\n",
      "For epoch: 3, W: 3.8463780879974365, b: 1.172889232635498, Current_loss: 2.3432090282440186\n",
      "For epoch: 4, W: 3.6791582107543945, b: 1.336531639099121, Current_loss: 1.8485429286956787\n",
      "For epoch: 5, W: 3.543259382247925, b: 1.467713713645935, Current_loss: 1.5261340141296387\n",
      "For epoch: 6, W: 3.4328176975250244, b: 1.5728774070739746, Current_loss: 1.3159584999084473\n",
      "For epoch: 7, W: 3.343066930770874, b: 1.657185435295105, Current_loss: 1.1789215803146362\n",
      "For epoch: 8, W: 3.270132303237915, b: 1.724775791168213, Current_loss: 1.089555263519287\n",
      "For epoch: 9, W: 3.210864782333374, b: 1.7789651155471802, Current_loss: 1.031266212463379\n",
      "For epoch: 10, W: 3.1627042293548584, b: 1.8224115371704102, Current_loss: 0.9932402968406677\n",
      "For epoch: 11, W: 3.123570203781128, b: 1.857245922088623, Current_loss: 0.9684291481971741\n",
      "For epoch: 12, W: 3.0917718410491943, b: 1.885176181793213, Current_loss: 0.9522375464439392\n",
      "For epoch: 13, W: 3.065934419631958, b: 1.9075714349746704, Current_loss: 0.9416690468788147\n",
      "For epoch: 14, W: 3.0449411869049072, b: 1.9255291223526, Current_loss: 0.9347696304321289\n",
      "For epoch: 15, W: 3.027884006500244, b: 1.9399288892745972, Current_loss: 0.930264949798584\n",
      "For epoch: 16, W: 3.0140254497528076, b: 1.9514760971069336, Current_loss: 0.927323043346405\n",
      "For epoch: 17, W: 3.0027658939361572, b: 1.9607360363006592, Current_loss: 0.9254016280174255\n",
      "For epoch: 18, W: 2.9936182498931885, b: 1.9681620597839355, Current_loss: 0.9241464734077454\n",
      "For epoch: 19, W: 2.9861862659454346, b: 1.9741175174713135, Current_loss: 0.9233263731002808\n",
      "For epoch: 20, W: 2.9801485538482666, b: 1.9788938760757446, Current_loss: 0.9227904081344604\n",
      "For epoch: 21, W: 2.97524356842041, b: 1.982724666595459, Current_loss: 0.9224401712417603\n",
      "For epoch: 22, W: 2.9712588787078857, b: 1.9857971668243408, Current_loss: 0.9222111701965332\n",
      "For epoch: 23, W: 2.968021869659424, b: 1.9882615804672241, Current_loss: 0.9220615029335022\n",
      "For epoch: 24, W: 2.9653921127319336, b: 1.9902381896972656, Current_loss: 0.9219637513160706\n",
      "For epoch: 25, W: 2.9632558822631836, b: 1.9918237924575806, Current_loss: 0.921899676322937\n",
      "For epoch: 26, W: 2.9615206718444824, b: 1.9930956363677979, Current_loss: 0.9218577742576599\n",
      "For epoch: 27, W: 2.960111141204834, b: 1.994115948677063, Current_loss: 0.921830415725708\n",
      "For epoch: 28, W: 2.9589662551879883, b: 1.9949344396591187, Current_loss: 0.9218124151229858\n",
      "For epoch: 29, W: 2.958036184310913, b: 1.9955910444259644, Current_loss: 0.9218007922172546\n",
      "For epoch: 30, W: 2.9572808742523193, b: 1.9961178302764893, Current_loss: 0.9217931032180786\n",
      "For epoch: 31, W: 2.956667184829712, b: 1.9965404272079468, Current_loss: 0.9217880964279175\n",
      "For epoch: 32, W: 2.9561688899993896, b: 1.9968795776367188, Current_loss: 0.9217849373817444\n",
      "For epoch: 33, W: 2.955764055252075, b: 1.9971516132354736, Current_loss: 0.9217827320098877\n",
      "For epoch: 34, W: 2.955435276031494, b: 1.9973698854446411, Current_loss: 0.9217812418937683\n",
      "For epoch: 35, W: 2.9551682472229004, b: 1.9975451231002808, Current_loss: 0.9217802882194519\n",
      "For epoch: 36, W: 2.954951286315918, b: 1.9976856708526611, Current_loss: 0.9217797517776489\n",
      "For epoch: 37, W: 2.954775094985962, b: 1.9977984428405762, Current_loss: 0.9217793941497803\n",
      "For epoch: 38, W: 2.954632043838501, b: 1.9978889226913452, Current_loss: 0.9217790365219116\n",
      "For epoch: 39, W: 2.9545159339904785, b: 1.9979616403579712, Current_loss: 0.9217789173126221\n",
      "For epoch: 40, W: 2.9544215202331543, b: 1.9980199337005615, Current_loss: 0.9217787384986877\n",
      "For epoch: 41, W: 2.9543449878692627, b: 1.998066782951355, Current_loss: 0.9217787384986877\n",
      "For epoch: 42, W: 2.954282760620117, b: 1.9981043338775635, Current_loss: 0.921778678894043\n",
      "For epoch: 43, W: 2.9542322158813477, b: 1.9981344938278198, Current_loss: 0.921778678894043\n",
      "For epoch: 44, W: 2.954191207885742, b: 1.9981586933135986, Current_loss: 0.9217785000801086\n",
      "For epoch: 45, W: 2.954157829284668, b: 1.9981781244277954, Current_loss: 0.9217785596847534\n",
      "For epoch: 46, W: 2.9541308879852295, b: 1.9981937408447266, Current_loss: 0.9217786192893982\n",
      "For epoch: 47, W: 2.954108953475952, b: 1.9982062578201294, Current_loss: 0.921778678894043\n",
      "For epoch: 48, W: 2.9540910720825195, b: 1.9982162714004517, Current_loss: 0.9217786192893982\n",
      "For epoch: 49, W: 2.9540765285491943, b: 1.9982243776321411, Current_loss: 0.9217785596847534\n",
      "For epoch: 50, W: 2.9540648460388184, b: 1.9982308149337769, Current_loss: 0.9217785596847534\n",
      "For epoch: 51, W: 2.9540553092956543, b: 1.998236060142517, Current_loss: 0.9217785596847534\n",
      "For epoch: 52, W: 2.954047441482544, b: 1.9982402324676514, Current_loss: 0.9217785596847534\n",
      "For epoch: 53, W: 2.9540412425994873, b: 1.9982435703277588, Current_loss: 0.9217785596847534\n",
      "For epoch: 54, W: 2.954035997390747, b: 1.9982463121414185, Current_loss: 0.9217785596847534\n",
      "For epoch: 55, W: 2.9540319442749023, b: 1.9982484579086304, Current_loss: 0.9217785596847534\n",
      "For epoch: 56, W: 2.954028606414795, b: 1.998250126838684, Current_loss: 0.9217785596847534\n",
      "For epoch: 57, W: 2.9540257453918457, b: 1.9982515573501587, Current_loss: 0.9217785596847534\n",
      "For epoch: 58, W: 2.954023599624634, b: 1.9982526302337646, Current_loss: 0.9217785596847534\n",
      "For epoch: 59, W: 2.954021692276001, b: 1.998253583908081, Current_loss: 0.9217785596847534\n",
      "For epoch: 60, W: 2.9540202617645264, b: 1.9982542991638184, Current_loss: 0.9217785596847534\n",
      "For epoch: 61, W: 2.954019069671631, b: 1.9982548952102661, Current_loss: 0.9217785596847534\n",
      "For epoch: 62, W: 2.9540181159973145, b: 1.9982553720474243, Current_loss: 0.9217785596847534\n",
      "For epoch: 63, W: 2.954017400741577, b: 1.998255729675293, Current_loss: 0.9217785000801086\n",
      "For epoch: 64, W: 2.95401668548584, b: 1.998255968093872, Current_loss: 0.9217785596847534\n",
      "For epoch: 65, W: 2.9540162086486816, b: 1.9982562065124512, Current_loss: 0.9217785596847534\n",
      "For epoch: 66, W: 2.9540157318115234, b: 1.9982564449310303, Current_loss: 0.9217785596847534\n",
      "For epoch: 67, W: 2.9540154933929443, b: 1.9982565641403198, Current_loss: 0.9217785596847534\n",
      "For epoch: 68, W: 2.9540152549743652, b: 1.9982566833496094, Current_loss: 0.9217785596847534\n",
      "For epoch: 69, W: 2.954015016555786, b: 1.998256802558899, Current_loss: 0.9217785596847534\n",
      "For epoch: 70, W: 2.954014778137207, b: 1.9982569217681885, Current_loss: 0.9217785596847534\n",
      "For epoch: 71, W: 2.954014539718628, b: 1.998257040977478, Current_loss: 0.9217785596847534\n",
      "For epoch: 72, W: 2.954014539718628, b: 1.998257040977478, Current_loss: 0.9217785596847534\n",
      "For epoch: 73, W: 2.954014539718628, b: 1.998257040977478, Current_loss: 0.9217785596847534\n",
      "For epoch: 74, W: 2.954014539718628, b: 1.998257040977478, Current_loss: 0.9217785596847534\n",
      "For epoch: 75, W: 2.954014539718628, b: 1.998257040977478, Current_loss: 0.9217785596847534\n",
      "For epoch: 76, W: 2.954014539718628, b: 1.998257040977478, Current_loss: 0.9217785596847534\n",
      "For epoch: 77, W: 2.954014539718628, b: 1.998257040977478, Current_loss: 0.9217785596847534\n",
      "For epoch: 78, W: 2.954014539718628, b: 1.998257040977478, Current_loss: 0.9217785596847534\n",
      "For epoch: 79, W: 2.954014539718628, b: 1.998257040977478, Current_loss: 0.9217785596847534\n",
      "For epoch: 80, W: 2.954014539718628, b: 1.998257040977478, Current_loss: 0.9217785596847534\n",
      "For epoch: 81, W: 2.954014539718628, b: 1.998257040977478, Current_loss: 0.9217785596847534\n",
      "For epoch: 82, W: 2.954014539718628, b: 1.998257040977478, Current_loss: 0.9217785596847534\n",
      "For epoch: 83, W: 2.954014539718628, b: 1.998257040977478, Current_loss: 0.9217785596847534\n",
      "For epoch: 84, W: 2.954014539718628, b: 1.998257040977478, Current_loss: 0.9217785596847534\n",
      "For epoch: 85, W: 2.954014539718628, b: 1.998257040977478, Current_loss: 0.9217785596847534\n",
      "For epoch: 86, W: 2.954014539718628, b: 1.998257040977478, Current_loss: 0.9217785596847534\n",
      "For epoch: 87, W: 2.954014539718628, b: 1.998257040977478, Current_loss: 0.9217785596847534\n",
      "For epoch: 88, W: 2.954014539718628, b: 1.998257040977478, Current_loss: 0.9217785596847534\n",
      "For epoch: 89, W: 2.954014539718628, b: 1.998257040977478, Current_loss: 0.9217785596847534\n",
      "For epoch: 90, W: 2.954014539718628, b: 1.998257040977478, Current_loss: 0.9217785596847534\n",
      "For epoch: 91, W: 2.954014539718628, b: 1.998257040977478, Current_loss: 0.9217785596847534\n",
      "For epoch: 92, W: 2.954014539718628, b: 1.998257040977478, Current_loss: 0.9217785596847534\n",
      "For epoch: 93, W: 2.954014539718628, b: 1.998257040977478, Current_loss: 0.9217785596847534\n",
      "For epoch: 94, W: 2.954014539718628, b: 1.998257040977478, Current_loss: 0.9217785596847534\n",
      "For epoch: 95, W: 2.954014539718628, b: 1.998257040977478, Current_loss: 0.9217785596847534\n",
      "For epoch: 96, W: 2.954014539718628, b: 1.998257040977478, Current_loss: 0.9217785596847534\n",
      "For epoch: 97, W: 2.954014539718628, b: 1.998257040977478, Current_loss: 0.9217785596847534\n",
      "For epoch: 98, W: 2.954014539718628, b: 1.998257040977478, Current_loss: 0.9217785596847534\n",
      "For epoch: 99, W: 2.954014539718628, b: 1.998257040977478, Current_loss: 0.9217785596847534\n"
     ]
    }
   ],
   "source": [
    "for epoch in range(epochs):\n",
    "    train(model,x,y,learning_rate)\n",
    "    Ws.append(model.w.numpy())\n",
    "    bs.append(model.b.numpy())\n",
    "    current_loss=MSE_loss(y,model(x))\n",
    "    print(f\"For epoch: {epoch}, W: {Ws[-1]}, b: {bs[-1]}, Current_loss: {current_loss}\")"
   ]
  },
  {
   "cell_type": "code",
   "execution_count": 47,
   "id": "43e8c296",
   "metadata": {},
   "outputs": [
    {
     "data": {
      "image/png": "[encoded data removed]",
      "text/plain": [
       "<Figure size 432x288 with 1 Axes>"
      ]
     },
     "metadata": {
      "needs_background": "light"
     },
     "output_type": "display_data"
    }
   ],
   "source": [
    "plt.plot(range(epochs), Ws, 'r', range(epochs), bs, \"b\")\n",
    "plt.plot([TRUE_W]*epochs, \"r--\", [TRUE_B]*epochs, \"b--\")\n",
    "plt.legend([\"W\",\"b\", \"True W\", \"True B\"])\n",
    "plt.show()"
   ]
  },
  {
   "cell_type": "code",
   "execution_count": null,
   "id": "22484293",
   "metadata": {},
   "outputs": [],
   "source": [
    "plt.scatter(Xy)"
   ]
  }
 ],
 "metadata": {
  "kernelspec": {
   "display_name": "Python 3 (ipykernel)",
   "language": "python",
   "name": "python3"
  },
  "language_info": {
   "codemirror_mode": {
    "name": "ipython",
    "version": 3
   },
   "file_extension": ".py",
   "mimetype": "text/x-python",
   "name": "python",
   "nbconvert_exporter": "python",
   "pygments_lexer": "ipython3",
   "version": "3.7.13"
  }
 },
 "nbformat": 4,
 "nbformat_minor": 5
}
