{
 "cells": [
  {
   "cell_type": "markdown",
   "id": "c4288c1f",
   "metadata": {},
   "source": [
    "# Calculate gradient in Tesorflow"
   ]
  },
  {
   "cell_type": "code",
   "execution_count": 1,
   "id": "370af7a6",
   "metadata": {},
   "outputs": [],
   "source": [
    "import tensorflow as tf"
   ]
  },
  {
   "cell_type": "code",
   "execution_count": 2,
   "id": "00d17a8a",
   "metadata": {},
   "outputs": [],
   "source": [
    "x=tf.random.normal(shape=(2,2))\n",
    "y=tf.random.normal(shape=(2,2))"
   ]
  },
  {
   "cell_type": "markdown",
   "id": "264daf8a",
   "metadata": {},
   "source": [
    "$f(x,y)= \\sqrt{(x^2 +y^2)}$\n",
    "\n",
    "$\\nabla f(x,y)= \\frac{\\partial f}\n",
    "{\\partial x} \\hat{\\imath} +\\frac\n",
    "{\\partial f}{\\partial y} \\hat{\\jmath}$\n"
   ]
  },
  {
   "cell_type": "code",
   "execution_count": 3,
   "id": "b839580c",
   "metadata": {},
   "outputs": [
    {
     "name": "stdout",
     "output_type": "stream",
     "text": [
      "tf.Tensor(\n",
      "[[ 0.90491503  0.96570474]\n",
      " [-0.7853826   0.9462325 ]], shape=(2, 2), dtype=float32)\n"
     ]
    }
   ],
   "source": [
    "with tf.GradientTape() as tape:\n",
    "    tape.watch(x)# calculate the gradient with respect to x\n",
    "    f=tf.sqrt(tf.square(x) +tf.square(y))\n",
    "    df_dx=tape.gradient(f,x)\n",
    "    print(df_dx)"
   ]
  },
  {
   "cell_type": "code",
   "execution_count": 5,
   "id": "9d23250c",
   "metadata": {},
   "outputs": [
    {
     "name": "stdout",
     "output_type": "stream",
     "text": [
      "tf.Tensor(\n",
      "[[ 0.42559218  0.25964257]\n",
      " [-0.6190106  -0.32348713]], shape=(2, 2), dtype=float32)\n"
     ]
    }
   ],
   "source": [
    "with tf.GradientTape() as tape:\n",
    "    tape.watch(y)\n",
    "    f=tf.sqrt(tf.square(x)+ tf.square(y))\n",
    "    df_dy=tape.gradient(f,y)\n",
    "    print(df_dy)"
   ]
  },
  {
   "cell_type": "code",
   "execution_count": 16,
   "id": "6529ca1f",
   "metadata": {},
   "outputs": [
    {
     "name": "stdout",
     "output_type": "stream",
     "text": [
      "tf.Tensor(0.8320503, shape=(), dtype=float32)\n",
      "tf.Tensor(0.5547002, shape=(), dtype=float32)\n"
     ]
    }
   ],
   "source": [
    "\n",
    "with tf.GradientTape() as tape:\n",
    "    tape.watch(x)# if we use constant then we have to use watch\n",
    "    tape.watch(y)\n",
    "    f=tf.sqrt(tf.square(x)+ tf.square(y))\n",
    "    df_dx, df_dy=tape.gradient(f,[x,y])# partial derivatives with respect to x and y\n",
    "    #df_dy=tape.gradient(f,y)\n",
    "    print(df_dx)\n",
    "    print(df_dy)"
   ]
  },
  {
   "cell_type": "code",
   "execution_count": 12,
   "id": "9a1a863e",
   "metadata": {},
   "outputs": [],
   "source": [
    "x=tf.Variable(3.)\n",
    "y=tf.Variable(2.)"
   ]
  },
  {
   "cell_type": "code",
   "execution_count": 17,
   "id": "3084ec79",
   "metadata": {},
   "outputs": [
    {
     "name": "stdout",
     "output_type": "stream",
     "text": [
      "tf.Tensor(0.8320503, shape=(), dtype=float32)\n",
      "tf.Tensor(0.5547002, shape=(), dtype=float32)\n"
     ]
    }
   ],
   "source": [
    "with tf.GradientTape() as tape:\n",
    "    #tape.watch(x)\n",
    "    #tape.watch(y) if we use variable then watch is not mandatory\n",
    "    f=tf.sqrt(tf.square(x)+ tf.square(y))\n",
    "    df_dx, df_dy=tape.gradient(f,[x,y])# partial derivatives with respect to x and y\n",
    "    #df_dy=tape.gradient(f,y)\n",
    "    print(df_dx)\n",
    "    print(df_dy)"
   ]
  },
  {
   "cell_type": "code",
   "execution_count": 14,
   "id": "11faf945",
   "metadata": {},
   "outputs": [
    {
     "data": {
      "text/plain": [
       "<tf.Tensor: shape=(), dtype=float32, numpy=0.8320503>"
      ]
     },
     "execution_count": 14,
     "metadata": {},
     "output_type": "execute_result"
    }
   ],
   "source": [
    "x/tf.sqrt(tf.square(x)+ tf.square(y))"
   ]
  },
  {
   "cell_type": "code",
   "execution_count": 15,
   "id": "7befb0c9",
   "metadata": {},
   "outputs": [
    {
     "data": {
      "text/plain": [
       "<tf.Tensor: shape=(), dtype=float32, numpy=0.5547002>"
      ]
     },
     "execution_count": 15,
     "metadata": {},
     "output_type": "execute_result"
    }
   ],
   "source": [
    "y/tf.sqrt(tf.square(x)+ tf.square(y))"
   ]
  },
  {
   "cell_type": "markdown",
   "id": "876d2f1f",
   "metadata": {},
   "source": [
    "# Simple Linear Regression example with tensorflow\n",
    "$f(x)= W.x +b$"
   ]
  },
  {
   "cell_type": "code",
   "execution_count": 18,
   "id": "9f9ec610",
   "metadata": {},
   "outputs": [],
   "source": [
    "TRUE_W=3.0\n",
    "TRUE_B=2.0\n",
    "NUM_EXAMPLES=1000\n",
    "x=tf.random.normal(shape=[NUM_EXAMPLES])\n",
    "noise=tf.random.normal(shape=[NUM_EXAMPLES])\n",
    "y=x*TRUE_W +TRUE_B +noise"
   ]
  },
  {
   "cell_type": "code",
   "execution_count": 19,
   "id": "53c39bd1",
   "metadata": {},
   "outputs": [
    {
     "data": {
      "image/png": "[encoded data removed]",
      "text/plain": [
       "<Figure size 432x288 with 1 Axes>"
      ]
     },
     "metadata": {
      "needs_background": "light"
     },
     "output_type": "display_data"
    }
   ],
   "source": [
    "import matplotlib.pyplot as plt\n",
    "plt.scatter(x,y,c=\"b\")\n",
    "plt.show()"
   ]
  },
  {
   "cell_type": "markdown",
   "id": "b0b3e1bd",
   "metadata": {},
   "source": [
    "# Without noise "
   ]
  },
  {
   "cell_type": "code",
   "execution_count": 20,
   "id": "fe1cedd4",
   "metadata": {},
   "outputs": [
    {
     "data": {
      "image/png": "[encoded data removed]",
      "text/plain": [
       "<Figure size 432x288 with 1 Axes>"
      ]
     },
     "metadata": {
      "needs_background": "light"
     },
     "output_type": "display_data"
    }
   ],
   "source": [
    "y=x*TRUE_W +TRUE_B\n",
    "import matplotlib.pyplot as plt\n",
    "plt.scatter(x,y,c=\"b\")\n",
    "plt.show()"
   ]
  },
  {
   "cell_type": "markdown",
   "id": "624a9e71",
   "metadata": {},
   "source": [
    "# Lets define a model"
   ]
  },
  {
   "cell_type": "code",
   "execution_count": 22,
   "id": "a7be395b",
   "metadata": {},
   "outputs": [],
   "source": [
    "class MyModel(tf.Module):\n",
    "    def __init__(self, **kwargs):\n",
    "        super().__init__(**kwargs)\n",
    "        # initials weights\n",
    "        self.w=tf.Variable(5.0)\n",
    "        self.b=tf.Variable(0.0)\n",
    "    def __call__(self,x):\n",
    "        return self.w*x+self.b"
   ]
  },
  {
   "cell_type": "code",
   "execution_count": 23,
   "id": "d528f6d5",
   "metadata": {},
   "outputs": [],
   "source": [
    "class Test:\n",
    "    def __init__(self,x):\n",
    "        self.x=x\n",
    "    def __call__(self):\n",
    "        return self.x**3\n",
    "    "
   ]
  },
  {
   "cell_type": "code",
   "execution_count": 24,
   "id": "495ea25b",
   "metadata": {},
   "outputs": [
    {
     "data": {
      "text/plain": [
       "<__main__.Test at 0x225b2f92b48>"
      ]
     },
     "execution_count": 24,
     "metadata": {},
     "output_type": "execute_result"
    }
   ],
   "source": [
    "obj=Test(2)\n",
    "obj"
   ]
  },
  {
   "cell_type": "code",
   "execution_count": null,
   "id": "86ed35b9",
   "metadata": {},
   "outputs": [],
   "source": []
  }
 ],
 "metadata": {
  "kernelspec": {
   "display_name": "Python 3 (ipykernel)",
   "language": "python",
   "name": "python3"
  },
  "language_info": {
   "codemirror_mode": {
    "name": "ipython",
    "version": 3
   },
   "file_extension": ".py",
   "mimetype": "text/x-python",
   "name": "python",
   "nbconvert_exporter": "python",
   "pygments_lexer": "ipython3",
   "version": "3.7.13"
  }
 },
 "nbformat": 4,
 "nbformat_minor": 5
}
